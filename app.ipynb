{
 "cells": [
  {
   "cell_type": "code",
   "execution_count": 1,
   "id": "87cc42b4-4e9b-47c8-b9d8-62e70a54f63b",
   "metadata": {},
   "outputs": [],
   "source": [
    "filename = '16a13165-e5cb-47e1-9efd-5794c6c41a89-1403_10_11.jpeg'\n"
   ]
  },
  {
   "cell_type": "markdown",
   "id": "847ccf78-da1a-47a0-8cc4-fdcf49f13ddd",
   "metadata": {},
   "source": [
    "# Pytesseract"
   ]
  },
  {
   "cell_type": "code",
   "execution_count": 1,
   "id": "b3143075-0701-408f-b5be-542927f2f3b6",
   "metadata": {
    "scrolled": true
   },
   "outputs": [],
   "source": [
    "\n",
    "from PIL import Image\n",
    "import pytesseract\n",
    "\n",
    "# Path to the tesseract executable\n",
    "# Update this path according to your installation\n",
    "pytesseract.pytesseract.tesseract_cmd = '/usr/bin/tesseract-ocr'\n",
    "\n",
    "def tesseractocr(image_path):\n",
    "    try:\n",
    "        # Open the image file\n",
    "        image = Image.open(image_path)\n",
    "        # Use Tesseract to extract text\n",
    "        text = pytesseract.image_to_string(image, \"fas\")\n",
    "        return text\n",
    "    except Exception as e:\n",
    "        print(f\"An error occurred: {e}\")\n",
    "        return None\n"
   ]
  },
  {
   "cell_type": "markdown",
   "id": "503df8d8-5352-499a-8a3b-923ccba2a2e8",
   "metadata": {},
   "source": [
    "# Paddle Ocr"
   ]
  },
  {
   "cell_type": "code",
   "execution_count": 2,
   "id": "6c7aeab1-3f56-4f85-8f80-0d40314a0154",
   "metadata": {
    "scrolled": true
   },
   "outputs": [
    {
     "name": "stderr",
     "output_type": "stream",
     "text": [
      "/mnt/Users/UT/Desktop/anaconda4/lib/python3.12/site-packages/_distutils_hack/__init__.py:16: UserWarning: Distutils was imported before Setuptools, but importing Setuptools also replaces the `distutils` module in `sys.modules`. This may lead to undesirable behaviors or errors. To avoid these issues, avoid using distutils directly, ensure that setuptools is installed in the traditional way (e.g. not an editable install), and/or make sure that setuptools is always imported before distutils.\n",
      "  warnings.warn(\n",
      "/mnt/Users/UT/Desktop/anaconda4/lib/python3.12/site-packages/_distutils_hack/__init__.py:31: UserWarning: Setuptools is replacing distutils. Support for replacing an already imported distutils is deprecated. In the future, this condition will fail. Register concerns at https://github.com/pypa/setuptools/issues/new?template=distutils-deprecation.yml\n",
      "  warnings.warn(\n"
     ]
    }
   ],
   "source": [
    "from paddleocr import PaddleOCR\n",
    "\n",
    "def paddleocr(image_path):\n",
    "    \"\"\"\n",
    "    Extract text from an image using PaddleOCR.\n",
    "\n",
    "    :param image_path: Path to the image file\n",
    "    :return: List of detected text and bounding box information\n",
    "    \"\"\"\n",
    "    try:\n",
    "        # Initialize the PaddleOCR model\n",
    "        ocr = PaddleOCR(use_angle_cls=True, lang=\"fa\")\n",
    "        \n",
    "        # Perform OCR on the image\n",
    "        results = ocr.ocr(image_path, cls=True)\n",
    "        \n",
    "        # Parse and return text results\n",
    "        extracted_text = []\n",
    "        for line in results[0]:\n",
    "            # Each line contains [bounding_box, (text, confidence)]\n",
    "            _, (text, confidence) = line\n",
    "            extracted_text.append((text[::-1], confidence))\n",
    "        \n",
    "        return extracted_text\n",
    "    except Exception as e:\n",
    "        print(f\"An error occurred: {e}\")\n",
    "        return None\n"
   ]
  },
  {
   "cell_type": "markdown",
   "id": "369cd15a-7eb5-400e-8dc7-192ab65a93c0",
   "metadata": {},
   "source": [
    "# Easy OCR"
   ]
  },
  {
   "cell_type": "code",
   "execution_count": 3,
   "id": "4638ad5c-732e-44d0-a96b-9b6ad4862ec0",
   "metadata": {},
   "outputs": [],
   "source": [
    "import easyocr\n",
    "\n",
    "import numpy as np\n",
    "\n",
    "from PIL import Image\n",
    "\n",
    "def easyocr1(image_path):\n",
    "    # Initialize EasyOCR Reader\n",
    "    reader = easyocr.Reader(['en', 'fa'], gpu=True)  # Add languages as needed, e.g., 'ar' for Arabic\n",
    "\n",
    "    img = Image.open(image_path)\n",
    "    img = img.convert(\"L\") \n",
    "    \n",
    "    # Perform OCR\n",
    "    ocr_results = reader.readtext(np.array(img), detail=0, batch_size=16)\n",
    "    \n",
    "    # Extract and reverse texts\n",
    "    reversed_texts = [result for result in ocr_results]  # Reverse the extracted texts\n",
    "    return \" \".join(reversed_texts)\n"
   ]
  },
  {
   "cell_type": "code",
   "execution_count": 4,
   "id": "54cfe04c-6437-4d97-a495-47328c2c1fd9",
   "metadata": {},
   "outputs": [
    {
     "name": "stderr",
     "output_type": "stream",
     "text": [
      "[2025-01-07 11:50:52,225] [ WARNING] easyocr.py:80 - Neither CUDA nor MPS are available - defaulting to CPU. Note: This module is much faster with a GPU.\n"
     ]
    },
    {
     "name": "stdout",
     "output_type": "stream",
     "text": [
      "before\n",
      "after\n",
      "كد پرسنلی : ٢٣٣ ١٤٠١ سیفٰی مادولی اذرام اطلاعان کسورات حقوق و مدن ح بدهکار / بستانکار مبلغ مبلغ مدن ح ١،٥٢٧،٦٤٩ پایه حقوق ٤،٢٩٤٠٩٩٨ بلمه ٤٧،٣٥٧،١١٩ ٠؛٠٠٢١/٠٠ ٠٢٠١٠٥٤٢٠ كاركرد ٢٥٠٠٠٠، مساعده ٢٧٠٥٥٨،١٢١ ٢٧؛٠٩٤ اضاف کار ٢٩١،٧٧٤ ماع اضائه كار عادی برای هر ٤٥٠٠٠٠،٠ ٨،٣٥٩،٥٠٠ ١،٥٠٠ صندوق پس انداز اولاد ٠٠٠١٠٢:٤٠ استحقاقی ر ١٨٠٩٠٠٠٠٠ ٢٠٧٠٠٠٠٠٠ وام صندوق فرض الحسنه ٥،٥٠ خواروبار و مانده مر  ٤٩،٤٠٠ ٣٠٨٠٠،٠٠ إوام صندوى فرض الحسنه ٥٠٠ راندمان ٣٥،٢٠٠،٠٠ ٢،٢٠٠،٠٠ وام صندوق ترض الحسنه ٠٠٠ ٨،٥٠٠ ٧،١٠٣،٥٦٨ نوبت ' ٢٠ ٧١،٨٨٣،٣١٠ دریافتی ٣٩،٤٩٤،٩٩٨ جمع کسورات ١١١،٣٧٨،٣٠٨ جمع ٥٠٠ ٢ریال راندمان بر کیفیت راندعان كلخان صابع زرريسان آعر تماره نلأ شهریور سایر  مزابا معوقه شرح عادی خصی مسکن خمیی کاری باداس عزابا خالص -سهان ذایر ٤٧١٢\n"
     ]
    }
   ],
   "source": [
    "print('before')\n",
    "result = easyocr1(\"./samples/16a13165-e5cb-47e1-9efd-5794c6c41a89-1403_10_11.jpeg\")\n",
    "print('after')\n",
    "print(result)"
   ]
  },
  {
   "cell_type": "markdown",
   "id": "0b1b432b-ed19-405f-a7e5-ffd635cd05ee",
   "metadata": {},
   "source": [
    "# Joined"
   ]
  },
  {
   "cell_type": "code",
   "execution_count": null,
   "id": "bd103ba7-0f58-4de6-aa8c-85c04b276efe",
   "metadata": {
    "scrolled": true
   },
   "outputs": [
    {
     "name": "stdout",
     "output_type": "stream",
     "text": [
      "here\n",
      "[2025/01/07 00:27:49] ppocr DEBUG: Namespace(help='==SUPPRESS==', use_gpu=False, use_xpu=False, use_npu=False, use_mlu=False, ir_optim=True, use_tensorrt=False, min_subgraph_size=15, precision='fp32', gpu_mem=500, gpu_id=0, image_dir=None, page_num=0, det_algorithm='DB', det_model_dir='/home/hadi/.paddleocr/whl/det/ml/Multilingual_PP-OCRv3_det_infer', det_limit_side_len=960, det_limit_type='max', det_box_type='quad', det_db_thresh=0.3, det_db_box_thresh=0.6, det_db_unclip_ratio=1.5, max_batch_size=10, use_dilation=False, det_db_score_mode='fast', det_east_score_thresh=0.8, det_east_cover_thresh=0.1, det_east_nms_thresh=0.2, det_sast_score_thresh=0.5, det_sast_nms_thresh=0.2, det_pse_thresh=0, det_pse_box_thresh=0.85, det_pse_min_area=16, det_pse_scale=1, scales=[8, 16, 32], alpha=1.0, beta=1.0, fourier_degree=5, rec_algorithm='SVTR_LCNet', rec_model_dir='/home/hadi/.paddleocr/whl/rec/arabic/arabic_PP-OCRv4_rec_infer', rec_image_inverse=True, rec_image_shape='3, 48, 320', rec_batch_num=6, max_text_length=25, rec_char_dict_path='/mnt/Users/UT/Desktop/anaconda4/lib/python3.12/site-packages/paddleocr/ppocr/utils/dict/arabic_dict.txt', use_space_char=True, vis_font_path='./doc/fonts/simfang.ttf', drop_score=0.5, e2e_algorithm='PGNet', e2e_model_dir=None, e2e_limit_side_len=768, e2e_limit_type='max', e2e_pgnet_score_thresh=0.5, e2e_char_dict_path='./ppocr/utils/ic15_dict.txt', e2e_pgnet_valid_set='totaltext', e2e_pgnet_mode='fast', use_angle_cls=True, cls_model_dir='/home/hadi/.paddleocr/whl/cls/ch_ppocr_mobile_v2.0_cls_infer', cls_image_shape='3, 48, 192', label_list=['0', '180'], cls_batch_num=6, cls_thresh=0.9, enable_mkldnn=False, cpu_threads=10, use_pdserving=False, warmup=False, sr_model_dir=None, sr_image_shape='3, 32, 128', sr_batch_num=1, draw_img_save_dir='./inference_results', save_crop_res=False, crop_res_save_dir='./output', use_mp=False, total_process_num=1, process_id=0, benchmark=False, save_log_path='./log_output/', show_log=True, use_onnx=False, return_word_box=False, output='./output', table_max_len=488, table_algorithm='TableAttn', table_model_dir=None, merge_no_span_structure=True, table_char_dict_path=None, formula_algorithm='LaTeXOCR', formula_model_dir=None, formula_char_dict_path=None, formula_batch_num=1, layout_model_dir=None, layout_dict_path=None, layout_score_threshold=0.5, layout_nms_threshold=0.5, kie_algorithm='LayoutXLM', ser_model_dir=None, re_model_dir=None, use_visual_backbone=True, ser_dict_path='../train_data/XFUND/class_list_xfun.txt', ocr_order_method=None, mode='structure', image_orientation=False, layout=True, table=True, formula=False, ocr=True, recovery=False, recovery_to_markdown=False, use_pdf2docx_api=False, invert=False, binarize=False, alphacolor=(255, 255, 255), lang='fa', det=True, rec=True, type='ocr', savefile=False, ocr_version='PP-OCRv4', structure_version='PP-StructureV2')\n",
      "[2025/01/07 00:27:50] ppocr DEBUG: dt_boxes num : 86, elapsed : 0.30646228790283203\n",
      "[2025/01/07 00:27:51] ppocr DEBUG: cls num  : 86, elapsed : 0.26108551025390625\n",
      "[2025/01/07 00:27:54] ppocr DEBUG: rec_res num  : 86, elapsed : 3.2386794090270996\n"
     ]
    },
    {
     "name": "stderr",
     "output_type": "stream",
     "text": [
      "[2025-01-07 00:27:55,577] [ WARNING] easyocr.py:80 - Neither CUDA nor MPS are available - defaulting to CPU. Note: This module is much faster with a GPU.\n"
     ]
    },
    {
     "name": "stdout",
     "output_type": "stream",
     "text": [
      "64fbde6e-4d63-49ea-9770-a5f50bb32973-1403_10_11.jpeg\n",
      "[2025/01/07 00:29:38] ppocr DEBUG: Namespace(help='==SUPPRESS==', use_gpu=False, use_xpu=False, use_npu=False, use_mlu=False, ir_optim=True, use_tensorrt=False, min_subgraph_size=15, precision='fp32', gpu_mem=500, gpu_id=0, image_dir=None, page_num=0, det_algorithm='DB', det_model_dir='/home/hadi/.paddleocr/whl/det/ml/Multilingual_PP-OCRv3_det_infer', det_limit_side_len=960, det_limit_type='max', det_box_type='quad', det_db_thresh=0.3, det_db_box_thresh=0.6, det_db_unclip_ratio=1.5, max_batch_size=10, use_dilation=False, det_db_score_mode='fast', det_east_score_thresh=0.8, det_east_cover_thresh=0.1, det_east_nms_thresh=0.2, det_sast_score_thresh=0.5, det_sast_nms_thresh=0.2, det_pse_thresh=0, det_pse_box_thresh=0.85, det_pse_min_area=16, det_pse_scale=1, scales=[8, 16, 32], alpha=1.0, beta=1.0, fourier_degree=5, rec_algorithm='SVTR_LCNet', rec_model_dir='/home/hadi/.paddleocr/whl/rec/arabic/arabic_PP-OCRv4_rec_infer', rec_image_inverse=True, rec_image_shape='3, 48, 320', rec_batch_num=6, max_text_length=25, rec_char_dict_path='/mnt/Users/UT/Desktop/anaconda4/lib/python3.12/site-packages/paddleocr/ppocr/utils/dict/arabic_dict.txt', use_space_char=True, vis_font_path='./doc/fonts/simfang.ttf', drop_score=0.5, e2e_algorithm='PGNet', e2e_model_dir=None, e2e_limit_side_len=768, e2e_limit_type='max', e2e_pgnet_score_thresh=0.5, e2e_char_dict_path='./ppocr/utils/ic15_dict.txt', e2e_pgnet_valid_set='totaltext', e2e_pgnet_mode='fast', use_angle_cls=True, cls_model_dir='/home/hadi/.paddleocr/whl/cls/ch_ppocr_mobile_v2.0_cls_infer', cls_image_shape='3, 48, 192', label_list=['0', '180'], cls_batch_num=6, cls_thresh=0.9, enable_mkldnn=False, cpu_threads=10, use_pdserving=False, warmup=False, sr_model_dir=None, sr_image_shape='3, 32, 128', sr_batch_num=1, draw_img_save_dir='./inference_results', save_crop_res=False, crop_res_save_dir='./output', use_mp=False, total_process_num=1, process_id=0, benchmark=False, save_log_path='./log_output/', show_log=True, use_onnx=False, return_word_box=False, output='./output', table_max_len=488, table_algorithm='TableAttn', table_model_dir=None, merge_no_span_structure=True, table_char_dict_path=None, formula_algorithm='LaTeXOCR', formula_model_dir=None, formula_char_dict_path=None, formula_batch_num=1, layout_model_dir=None, layout_dict_path=None, layout_score_threshold=0.5, layout_nms_threshold=0.5, kie_algorithm='LayoutXLM', ser_model_dir=None, re_model_dir=None, use_visual_backbone=True, ser_dict_path='../train_data/XFUND/class_list_xfun.txt', ocr_order_method=None, mode='structure', image_orientation=False, layout=True, table=True, formula=False, ocr=True, recovery=False, recovery_to_markdown=False, use_pdf2docx_api=False, invert=False, binarize=False, alphacolor=(255, 255, 255), lang='fa', det=True, rec=True, type='ocr', savefile=False, ocr_version='PP-OCRv4', structure_version='PP-StructureV2')\n",
      "[2025/01/07 00:29:39] ppocr DEBUG: dt_boxes num : 55, elapsed : 0.2762479782104492\n",
      "[2025/01/07 00:29:40] ppocr DEBUG: cls num  : 55, elapsed : 0.13635826110839844\n",
      "[2025/01/07 00:29:43] ppocr DEBUG: rec_res num  : 55, elapsed : 3.617816209793091\n"
     ]
    },
    {
     "name": "stderr",
     "output_type": "stream",
     "text": [
      "[2025-01-07 00:29:46,691] [ WARNING] easyocr.py:80 - Neither CUDA nor MPS are available - defaulting to CPU. Note: This module is much faster with a GPU.\n"
     ]
    },
    {
     "name": "stdout",
     "output_type": "stream",
     "text": [
      "4047eee8-89aa-4014-97dc-b395df9019ac-1403_10_11.jpeg\n",
      "[2025/01/07 00:32:10] ppocr DEBUG: Namespace(help='==SUPPRESS==', use_gpu=False, use_xpu=False, use_npu=False, use_mlu=False, ir_optim=True, use_tensorrt=False, min_subgraph_size=15, precision='fp32', gpu_mem=500, gpu_id=0, image_dir=None, page_num=0, det_algorithm='DB', det_model_dir='/home/hadi/.paddleocr/whl/det/ml/Multilingual_PP-OCRv3_det_infer', det_limit_side_len=960, det_limit_type='max', det_box_type='quad', det_db_thresh=0.3, det_db_box_thresh=0.6, det_db_unclip_ratio=1.5, max_batch_size=10, use_dilation=False, det_db_score_mode='fast', det_east_score_thresh=0.8, det_east_cover_thresh=0.1, det_east_nms_thresh=0.2, det_sast_score_thresh=0.5, det_sast_nms_thresh=0.2, det_pse_thresh=0, det_pse_box_thresh=0.85, det_pse_min_area=16, det_pse_scale=1, scales=[8, 16, 32], alpha=1.0, beta=1.0, fourier_degree=5, rec_algorithm='SVTR_LCNet', rec_model_dir='/home/hadi/.paddleocr/whl/rec/arabic/arabic_PP-OCRv4_rec_infer', rec_image_inverse=True, rec_image_shape='3, 48, 320', rec_batch_num=6, max_text_length=25, rec_char_dict_path='/mnt/Users/UT/Desktop/anaconda4/lib/python3.12/site-packages/paddleocr/ppocr/utils/dict/arabic_dict.txt', use_space_char=True, vis_font_path='./doc/fonts/simfang.ttf', drop_score=0.5, e2e_algorithm='PGNet', e2e_model_dir=None, e2e_limit_side_len=768, e2e_limit_type='max', e2e_pgnet_score_thresh=0.5, e2e_char_dict_path='./ppocr/utils/ic15_dict.txt', e2e_pgnet_valid_set='totaltext', e2e_pgnet_mode='fast', use_angle_cls=True, cls_model_dir='/home/hadi/.paddleocr/whl/cls/ch_ppocr_mobile_v2.0_cls_infer', cls_image_shape='3, 48, 192', label_list=['0', '180'], cls_batch_num=6, cls_thresh=0.9, enable_mkldnn=False, cpu_threads=10, use_pdserving=False, warmup=False, sr_model_dir=None, sr_image_shape='3, 32, 128', sr_batch_num=1, draw_img_save_dir='./inference_results', save_crop_res=False, crop_res_save_dir='./output', use_mp=False, total_process_num=1, process_id=0, benchmark=False, save_log_path='./log_output/', show_log=True, use_onnx=False, return_word_box=False, output='./output', table_max_len=488, table_algorithm='TableAttn', table_model_dir=None, merge_no_span_structure=True, table_char_dict_path=None, formula_algorithm='LaTeXOCR', formula_model_dir=None, formula_char_dict_path=None, formula_batch_num=1, layout_model_dir=None, layout_dict_path=None, layout_score_threshold=0.5, layout_nms_threshold=0.5, kie_algorithm='LayoutXLM', ser_model_dir=None, re_model_dir=None, use_visual_backbone=True, ser_dict_path='../train_data/XFUND/class_list_xfun.txt', ocr_order_method=None, mode='structure', image_orientation=False, layout=True, table=True, formula=False, ocr=True, recovery=False, recovery_to_markdown=False, use_pdf2docx_api=False, invert=False, binarize=False, alphacolor=(255, 255, 255), lang='fa', det=True, rec=True, type='ocr', savefile=False, ocr_version='PP-OCRv4', structure_version='PP-StructureV2')\n",
      "[2025/01/07 00:32:11] ppocr DEBUG: dt_boxes num : 78, elapsed : 0.29517555236816406\n",
      "[2025/01/07 00:32:11] ppocr DEBUG: cls num  : 78, elapsed : 0.12112975120544434\n",
      "[2025/01/07 00:32:15] ppocr DEBUG: rec_res num  : 78, elapsed : 3.7283360958099365\n"
     ]
    },
    {
     "name": "stderr",
     "output_type": "stream",
     "text": [
      "[2025-01-07 00:32:16,564] [ WARNING] easyocr.py:80 - Neither CUDA nor MPS are available - defaulting to CPU. Note: This module is much faster with a GPU.\n"
     ]
    },
    {
     "name": "stdout",
     "output_type": "stream",
     "text": [
      "4bb7c380-f9c4-4301-a5da-faf015a2ab6d-1403_10_11.jpeg\n",
      "[2025/01/07 00:33:55] ppocr DEBUG: Namespace(help='==SUPPRESS==', use_gpu=False, use_xpu=False, use_npu=False, use_mlu=False, ir_optim=True, use_tensorrt=False, min_subgraph_size=15, precision='fp32', gpu_mem=500, gpu_id=0, image_dir=None, page_num=0, det_algorithm='DB', det_model_dir='/home/hadi/.paddleocr/whl/det/ml/Multilingual_PP-OCRv3_det_infer', det_limit_side_len=960, det_limit_type='max', det_box_type='quad', det_db_thresh=0.3, det_db_box_thresh=0.6, det_db_unclip_ratio=1.5, max_batch_size=10, use_dilation=False, det_db_score_mode='fast', det_east_score_thresh=0.8, det_east_cover_thresh=0.1, det_east_nms_thresh=0.2, det_sast_score_thresh=0.5, det_sast_nms_thresh=0.2, det_pse_thresh=0, det_pse_box_thresh=0.85, det_pse_min_area=16, det_pse_scale=1, scales=[8, 16, 32], alpha=1.0, beta=1.0, fourier_degree=5, rec_algorithm='SVTR_LCNet', rec_model_dir='/home/hadi/.paddleocr/whl/rec/arabic/arabic_PP-OCRv4_rec_infer', rec_image_inverse=True, rec_image_shape='3, 48, 320', rec_batch_num=6, max_text_length=25, rec_char_dict_path='/mnt/Users/UT/Desktop/anaconda4/lib/python3.12/site-packages/paddleocr/ppocr/utils/dict/arabic_dict.txt', use_space_char=True, vis_font_path='./doc/fonts/simfang.ttf', drop_score=0.5, e2e_algorithm='PGNet', e2e_model_dir=None, e2e_limit_side_len=768, e2e_limit_type='max', e2e_pgnet_score_thresh=0.5, e2e_char_dict_path='./ppocr/utils/ic15_dict.txt', e2e_pgnet_valid_set='totaltext', e2e_pgnet_mode='fast', use_angle_cls=True, cls_model_dir='/home/hadi/.paddleocr/whl/cls/ch_ppocr_mobile_v2.0_cls_infer', cls_image_shape='3, 48, 192', label_list=['0', '180'], cls_batch_num=6, cls_thresh=0.9, enable_mkldnn=False, cpu_threads=10, use_pdserving=False, warmup=False, sr_model_dir=None, sr_image_shape='3, 32, 128', sr_batch_num=1, draw_img_save_dir='./inference_results', save_crop_res=False, crop_res_save_dir='./output', use_mp=False, total_process_num=1, process_id=0, benchmark=False, save_log_path='./log_output/', show_log=True, use_onnx=False, return_word_box=False, output='./output', table_max_len=488, table_algorithm='TableAttn', table_model_dir=None, merge_no_span_structure=True, table_char_dict_path=None, formula_algorithm='LaTeXOCR', formula_model_dir=None, formula_char_dict_path=None, formula_batch_num=1, layout_model_dir=None, layout_dict_path=None, layout_score_threshold=0.5, layout_nms_threshold=0.5, kie_algorithm='LayoutXLM', ser_model_dir=None, re_model_dir=None, use_visual_backbone=True, ser_dict_path='../train_data/XFUND/class_list_xfun.txt', ocr_order_method=None, mode='structure', image_orientation=False, layout=True, table=True, formula=False, ocr=True, recovery=False, recovery_to_markdown=False, use_pdf2docx_api=False, invert=False, binarize=False, alphacolor=(255, 255, 255), lang='fa', det=True, rec=True, type='ocr', savefile=False, ocr_version='PP-OCRv4', structure_version='PP-StructureV2')\n",
      "[2025/01/07 00:33:57] ppocr DEBUG: dt_boxes num : 96, elapsed : 0.2744169235229492\n",
      "[2025/01/07 00:33:57] ppocr DEBUG: cls num  : 96, elapsed : 0.22613120079040527\n",
      "[2025/01/07 00:34:01] ppocr DEBUG: rec_res num  : 96, elapsed : 4.4733569622039795\n"
     ]
    },
    {
     "name": "stderr",
     "output_type": "stream",
     "text": [
      "[2025-01-07 00:34:03,404] [ WARNING] easyocr.py:80 - Neither CUDA nor MPS are available - defaulting to CPU. Note: This module is much faster with a GPU.\n"
     ]
    }
   ],
   "source": [
    "# Joined\n",
    "import json\n",
    "import os\n",
    "\n",
    "print('here')\n",
    "def process_folder(folder_path):\n",
    "    ocr_results = {}\n",
    "    \n",
    "    # Loop through all files in the folder\n",
    "    for filename in os.listdir(folder_path):\n",
    "        file_path = os.path.join(folder_path, filename)\n",
    "        \n",
    "        # Check if the file is an image\n",
    "        if os.path.isfile(file_path) and filename.lower().endswith(('.png', '.jpg', '.jpeg', '.bmp', '.tiff')):\n",
    "            try:\n",
    "                paddle = paddleocr(file_path)\n",
    "                tesseract = tesseractocr(file_path)\n",
    "                easy = easyocr1(file_path)\n",
    "                print(filename)\n",
    "\n",
    "                ocr_results[filename] = { \n",
    "                    \"paddle\": \" \".join([item[0] for item in paddle]), \n",
    "                    \"tesseract\": tesseract, \n",
    "                    \"easy\": easy \n",
    "                }\n",
    "                \n",
    "                # Perform OCR\n",
    "                # results = reader.readtext(file_path)\n",
    "                \n",
    "                # Extract text\n",
    "                # extracted_texts = [result[1] for result in results]\n",
    "                \n",
    "                # Save results in the dictionary\n",
    "                # ocr_results[filename] = extracted_texts\n",
    "            \n",
    "            except Exception as e:\n",
    "                print(f\"Error processing {filename}: {e}\")\n",
    "    \n",
    "    with open(\"./output.json\", 'w', encoding='utf-8') as json_file:\n",
    "        print('saving')\n",
    "        json.dump(ocr_results, json_file, ensure_ascii=False, indent=4)\n",
    "\n",
    "    return ocr_results\n",
    "\n",
    "process_folder('./samples')\n"
   ]
  },
  {
   "cell_type": "code",
   "execution_count": null,
   "id": "a2480227-d9ec-4d5e-aa97-8cf69bf4b6fc",
   "metadata": {},
   "outputs": [],
   "source": [
    "print(result)\n"
   ]
  },
  {
   "cell_type": "code",
   "execution_count": null,
   "id": "3a065196-fe25-4226-84f2-3562de939d83",
   "metadata": {},
   "outputs": [],
   "source": [
    "import cv2\n",
    "import numpy as np\n",
    "from tensorflow.keras.models import Sequential\n",
    "from tensorflow.keras.layers import Dense, Flatten\n",
    "from tensorflow.keras.optimizers import Adam\n",
    "from tensorflow.keras.utils import to_categorical\n",
    "\n",
    "# Generate dummy training data\n",
    "def generate_training_data(char='A', num_samples=100):\n",
    "    \"\"\"Generate synthetic images of a single character for training.\"\"\"\n",
    "    data = []\n",
    "    labels = []\n",
    "    for _ in range(num_samples):\n",
    "        # Create a blank image\n",
    "        img = np.zeros((28, 28), dtype=np.uint8)\n",
    "        \n",
    "        # Draw the character on the image\n",
    "        font = cv2.FONT_HERSHEY_SIMPLEX\n",
    "        cv2.putText(img, char, (5, 24), font, 1, (255,), 2, cv2.LINE_AA)\n",
    "        \n",
    "        # Apply random noise/transformations\n",
    "        img = cv2.GaussianBlur(img, (3, 3), 0)\n",
    "        \n",
    "        # Normalize image\n",
    "        img = img / 255.0\n",
    "        data.append(img)\n",
    "        labels.append(1)  # Label '1' for 'A'\n",
    "\n",
    "    return np.array(data), np.array(labels)\n",
    "\n",
    "# Prepare training data\n",
    "data, labels = generate_training_data()\n",
    "data = data.reshape(data.shape[0], 28, 28, 1)  # Add channel dimension\n",
    "labels = to_categorical(labels, num_classes=2)  # Two classes: 'A' and 'not A'\n",
    "\n",
    "# Create a simple model\n",
    "model = Sequential([\n",
    "    Flatten(input_shape=(28, 28, 1)),\n",
    "    Dense(128, activation='relu'),\n",
    "    Dense(2, activation='softmax')  # Output layer for binary classification\n",
    "])\n",
    "\n",
    "# Compile the model\n",
    "model.compile(optimizer=Adam(learning_rate=0.001),\n",
    "              loss='categorical_crossentropy',\n",
    "              metrics=['accuracy'])\n",
    "\n",
    "# Train the model\n",
    "model.fit(data, labels, epochs=10, batch_size=10)\n",
    "\n",
    "# Test the model\n",
    "test_img = np.zeros((28, 28), dtype=np.uint8)\n",
    "cv2.putText(test_img, 'A', (5, 24), cv2.FONT_HERSHEY_SIMPLEX, 1, (255,), 2, cv2.LINE_AA)\n",
    "test_img = test_img / 255.0\n",
    "test_img = test_img.reshape(1, 28, 28, 1)\n",
    "\n",
    "# Predict\n",
    "prediction = model.predict(test_img)\n",
    "print(\"Prediction:\", \"A\" if np.argmax(prediction) == 1 else \"Not A\")\n"
   ]
  }
 ],
 "metadata": {
  "kernelspec": {
   "display_name": "Python 3 (ipykernel)",
   "language": "python",
   "name": "python3"
  },
  "language_info": {
   "codemirror_mode": {
    "name": "ipython",
    "version": 3
   },
   "file_extension": ".py",
   "mimetype": "text/x-python",
   "name": "python",
   "nbconvert_exporter": "python",
   "pygments_lexer": "ipython3",
   "version": "3.12.7"
  }
 },
 "nbformat": 4,
 "nbformat_minor": 5
}
