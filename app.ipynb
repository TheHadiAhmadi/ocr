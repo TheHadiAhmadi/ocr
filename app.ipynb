{
 "cells": [
  {
   "cell_type": "code",
   "execution_count": 1,
   "id": "87cc42b4-4e9b-47c8-b9d8-62e70a54f63b",
   "metadata": {},
   "outputs": [],
   "source": [
    "filename = '16a13165-e5cb-47e1-9efd-5794c6c41a89-1403_10_11.jpeg'\n"
   ]
  },
  {
   "cell_type": "markdown",
   "id": "847ccf78-da1a-47a0-8cc4-fdcf49f13ddd",
   "metadata": {},
   "source": [
    "# Pytesseract"
   ]
  },
  {
   "cell_type": "code",
   "execution_count": 1,
   "id": "b3143075-0701-408f-b5be-542927f2f3b6",
   "metadata": {
    "scrolled": true
   },
   "outputs": [],
   "source": [
    "\n",
    "from PIL import Image\n",
    "import pytesseract\n",
    "\n",
    "# Path to the tesseract executable\n",
    "# Update this path according to your installation\n",
    "pytesseract.pytesseract.tesseract_cmd = '/usr/bin/tesseract-ocr'\n",
    "\n",
    "def tesseractocr(image_path):\n",
    "    try:\n",
    "        # Open the image file\n",
    "        image = Image.open(image_path)\n",
    "        # Use Tesseract to extract text\n",
    "        text = pytesseract.image_to_string(image, \"fas\")\n",
    "        return text\n",
    "    except Exception as e:\n",
    "        print(f\"An error occurred: {e}\")\n",
    "        return None\n"
   ]
  },
  {
   "cell_type": "markdown",
   "id": "503df8d8-5352-499a-8a3b-923ccba2a2e8",
   "metadata": {},
   "source": [
    "# Paddle Ocr"
   ]
  },
  {
   "cell_type": "code",
   "execution_count": 2,
   "id": "6c7aeab1-3f56-4f85-8f80-0d40314a0154",
   "metadata": {
    "scrolled": true
   },
   "outputs": [
    {
     "name": "stderr",
     "output_type": "stream",
     "text": [
      "/mnt/Users/UT/Desktop/anaconda4/lib/python3.12/site-packages/_distutils_hack/__init__.py:16: UserWarning: Distutils was imported before Setuptools, but importing Setuptools also replaces the `distutils` module in `sys.modules`. This may lead to undesirable behaviors or errors. To avoid these issues, avoid using distutils directly, ensure that setuptools is installed in the traditional way (e.g. not an editable install), and/or make sure that setuptools is always imported before distutils.\n",
      "  warnings.warn(\n",
      "/mnt/Users/UT/Desktop/anaconda4/lib/python3.12/site-packages/_distutils_hack/__init__.py:31: UserWarning: Setuptools is replacing distutils. Support for replacing an already imported distutils is deprecated. In the future, this condition will fail. Register concerns at https://github.com/pypa/setuptools/issues/new?template=distutils-deprecation.yml\n",
      "  warnings.warn(\n"
     ]
    }
   ],
   "source": [
    "from paddleocr import PaddleOCR\n",
    "\n",
    "def paddleocr(image_path):\n",
    "    \"\"\"\n",
    "    Extract text from an image using PaddleOCR.\n",
    "\n",
    "    :param image_path: Path to the image file\n",
    "    :return: List of detected text and bounding box information\n",
    "    \"\"\"\n",
    "    try:\n",
    "        # Initialize the PaddleOCR model\n",
    "        ocr = PaddleOCR(use_angle_cls=True, lang=\"fa\")\n",
    "        \n",
    "        # Perform OCR on the image\n",
    "        results = ocr.ocr(image_path, cls=True)\n",
    "        \n",
    "        # Parse and return text results\n",
    "        extracted_text = []\n",
    "        for line in results[0]:\n",
    "            # Each line contains [bounding_box, (text, confidence)]\n",
    "            _, (text, confidence) = line\n",
    "            extracted_text.append((text[::-1], confidence))\n",
    "        \n",
    "        return extracted_text\n",
    "    except Exception as e:\n",
    "        print(f\"An error occurred: {e}\")\n",
    "        return None\n"
   ]
  },
  {
   "cell_type": "markdown",
   "id": "369cd15a-7eb5-400e-8dc7-192ab65a93c0",
   "metadata": {},
   "source": [
    "# Easy OCR"
   ]
  },
  {
   "cell_type": "code",
   "execution_count": 3,
   "id": "4638ad5c-732e-44d0-a96b-9b6ad4862ec0",
   "metadata": {},
   "outputs": [],
   "source": [
    "import easyocr\n",
    "\n",
    "import numpy as np\n",
    "\n",
    "from PIL import Image\n",
    "\n",
    "def easyocr1(image_path):\n",
    "    # Initialize EasyOCR Reader\n",
    "    reader = easyocr.Reader(['en', 'fa'], gpu=True)  # Add languages as needed, e.g., 'ar' for Arabic\n",
    "\n",
    "    img = Image.open(image_path)\n",
    "    img = img.convert(\"L\") \n",
    "    \n",
    "    # Perform OCR\n",
    "    ocr_results = reader.readtext(np.array(img), detail=0, batch_size=16)\n",
    "    \n",
    "    # Extract and reverse texts\n",
    "    reversed_texts = [result for result in ocr_results]  # Reverse the extracted texts\n",
    "    return \" \".join(reversed_texts)\n"
   ]
  },
  {
   "cell_type": "markdown",
   "id": "712038db",
   "metadata": {},
   "source": [
    "## Test EasyOCR"
   ]
  },
  {
   "cell_type": "code",
   "execution_count": 4,
   "id": "54cfe04c-6437-4d97-a495-47328c2c1fd9",
   "metadata": {},
   "outputs": [
    {
     "name": "stderr",
     "output_type": "stream",
     "text": [
      "[2025-01-07 11:50:52,225] [ WARNING] easyocr.py:80 - Neither CUDA nor MPS are available - defaulting to CPU. Note: This module is much faster with a GPU.\n"
     ]
    },
    {
     "name": "stdout",
     "output_type": "stream",
     "text": [
      "before\n",
      "after\n",
      "كد پرسنلی : ٢٣٣ ١٤٠١ سیفٰی مادولی اذرام اطلاعان کسورات حقوق و مدن ح بدهکار / بستانکار مبلغ مبلغ مدن ح ١،٥٢٧،٦٤٩ پایه حقوق ٤،٢٩٤٠٩٩٨ بلمه ٤٧،٣٥٧،١١٩ ٠؛٠٠٢١/٠٠ ٠٢٠١٠٥٤٢٠ كاركرد ٢٥٠٠٠٠، مساعده ٢٧٠٥٥٨،١٢١ ٢٧؛٠٩٤ اضاف کار ٢٩١،٧٧٤ ماع اضائه كار عادی برای هر ٤٥٠٠٠٠،٠ ٨،٣٥٩،٥٠٠ ١،٥٠٠ صندوق پس انداز اولاد ٠٠٠١٠٢:٤٠ استحقاقی ر ١٨٠٩٠٠٠٠٠ ٢٠٧٠٠٠٠٠٠ وام صندوق فرض الحسنه ٥،٥٠ خواروبار و مانده مر  ٤٩،٤٠٠ ٣٠٨٠٠،٠٠ إوام صندوى فرض الحسنه ٥٠٠ راندمان ٣٥،٢٠٠،٠٠ ٢،٢٠٠،٠٠ وام صندوق ترض الحسنه ٠٠٠ ٨،٥٠٠ ٧،١٠٣،٥٦٨ نوبت ' ٢٠ ٧١،٨٨٣،٣١٠ دریافتی ٣٩،٤٩٤،٩٩٨ جمع کسورات ١١١،٣٧٨،٣٠٨ جمع ٥٠٠ ٢ریال راندمان بر کیفیت راندعان كلخان صابع زرريسان آعر تماره نلأ شهریور سایر  مزابا معوقه شرح عادی خصی مسکن خمیی کاری باداس عزابا خالص -سهان ذایر ٤٧١٢\n"
     ]
    }
   ],
   "source": [
    "print('before')\n",
    "result = easyocr1(\"./samples/16a13165-e5cb-47e1-9efd-5794c6c41a89-1403_10_11.jpeg\")\n",
    "print('after')\n",
    "print(result)"
   ]
  },
  {
   "cell_type": "markdown",
   "id": "0b1b432b-ed19-405f-a7e5-ffd635cd05ee",
   "metadata": {},
   "source": [
    "# Joined"
   ]
  },
  {
   "cell_type": "code",
   "execution_count": null,
   "id": "bd103ba7-0f58-4de6-aa8c-85c04b276efe",
   "metadata": {
    "scrolled": true
   },
   "outputs": [
    {
     "name": "stdout",
     "output_type": "stream",
     "text": [
      "here\n",
      "[2025/01/07 00:27:49] ppocr DEBUG: Namespace(help='==SUPPRESS==', use_gpu=False, use_xpu=False, use_npu=False, use_mlu=False, ir_optim=True, use_tensorrt=False, min_subgraph_size=15, precision='fp32', gpu_mem=500, gpu_id=0, image_dir=None, page_num=0, det_algorithm='DB', det_model_dir='/home/hadi/.paddleocr/whl/det/ml/Multilingual_PP-OCRv3_det_infer', det_limit_side_len=960, det_limit_type='max', det_box_type='quad', det_db_thresh=0.3, det_db_box_thresh=0.6, det_db_unclip_ratio=1.5, max_batch_size=10, use_dilation=False, det_db_score_mode='fast', det_east_score_thresh=0.8, det_east_cover_thresh=0.1, det_east_nms_thresh=0.2, det_sast_score_thresh=0.5, det_sast_nms_thresh=0.2, det_pse_thresh=0, det_pse_box_thresh=0.85, det_pse_min_area=16, det_pse_scale=1, scales=[8, 16, 32], alpha=1.0, beta=1.0, fourier_degree=5, rec_algorithm='SVTR_LCNet', rec_model_dir='/home/hadi/.paddleocr/whl/rec/arabic/arabic_PP-OCRv4_rec_infer', rec_image_inverse=True, rec_image_shape='3, 48, 320', rec_batch_num=6, max_text_length=25, rec_char_dict_path='/mnt/Users/UT/Desktop/anaconda4/lib/python3.12/site-packages/paddleocr/ppocr/utils/dict/arabic_dict.txt', use_space_char=True, vis_font_path='./doc/fonts/simfang.ttf', drop_score=0.5, e2e_algorithm='PGNet', e2e_model_dir=None, e2e_limit_side_len=768, e2e_limit_type='max', e2e_pgnet_score_thresh=0.5, e2e_char_dict_path='./ppocr/utils/ic15_dict.txt', e2e_pgnet_valid_set='totaltext', e2e_pgnet_mode='fast', use_angle_cls=True, cls_model_dir='/home/hadi/.paddleocr/whl/cls/ch_ppocr_mobile_v2.0_cls_infer', cls_image_shape='3, 48, 192', label_list=['0', '180'], cls_batch_num=6, cls_thresh=0.9, enable_mkldnn=False, cpu_threads=10, use_pdserving=False, warmup=False, sr_model_dir=None, sr_image_shape='3, 32, 128', sr_batch_num=1, draw_img_save_dir='./inference_results', save_crop_res=False, crop_res_save_dir='./output', use_mp=False, total_process_num=1, process_id=0, benchmark=False, save_log_path='./log_output/', show_log=True, use_onnx=False, return_word_box=False, output='./output', table_max_len=488, table_algorithm='TableAttn', table_model_dir=None, merge_no_span_structure=True, table_char_dict_path=None, formula_algorithm='LaTeXOCR', formula_model_dir=None, formula_char_dict_path=None, formula_batch_num=1, layout_model_dir=None, layout_dict_path=None, layout_score_threshold=0.5, layout_nms_threshold=0.5, kie_algorithm='LayoutXLM', ser_model_dir=None, re_model_dir=None, use_visual_backbone=True, ser_dict_path='../train_data/XFUND/class_list_xfun.txt', ocr_order_method=None, mode='structure', image_orientation=False, layout=True, table=True, formula=False, ocr=True, recovery=False, recovery_to_markdown=False, use_pdf2docx_api=False, invert=False, binarize=False, alphacolor=(255, 255, 255), lang='fa', det=True, rec=True, type='ocr', savefile=False, ocr_version='PP-OCRv4', structure_version='PP-StructureV2')\n",
      "[2025/01/07 00:27:50] ppocr DEBUG: dt_boxes num : 86, elapsed : 0.30646228790283203\n",
      "[2025/01/07 00:27:51] ppocr DEBUG: cls num  : 86, elapsed : 0.26108551025390625\n",
      "[2025/01/07 00:27:54] ppocr DEBUG: rec_res num  : 86, elapsed : 3.2386794090270996\n"
     ]
    },
    {
     "name": "stderr",
     "output_type": "stream",
     "text": [
      "[2025-01-07 00:27:55,577] [ WARNING] easyocr.py:80 - Neither CUDA nor MPS are available - defaulting to CPU. Note: This module is much faster with a GPU.\n"
     ]
    },
    {
     "name": "stdout",
     "output_type": "stream",
     "text": [
      "64fbde6e-4d63-49ea-9770-a5f50bb32973-1403_10_11.jpeg\n",
      "[2025/01/07 00:29:38] ppocr DEBUG: Namespace(help='==SUPPRESS==', use_gpu=False, use_xpu=False, use_npu=False, use_mlu=False, ir_optim=True, use_tensorrt=False, min_subgraph_size=15, precision='fp32', gpu_mem=500, gpu_id=0, image_dir=None, page_num=0, det_algorithm='DB', det_model_dir='/home/hadi/.paddleocr/whl/det/ml/Multilingual_PP-OCRv3_det_infer', det_limit_side_len=960, det_limit_type='max', det_box_type='quad', det_db_thresh=0.3, det_db_box_thresh=0.6, det_db_unclip_ratio=1.5, max_batch_size=10, use_dilation=False, det_db_score_mode='fast', det_east_score_thresh=0.8, det_east_cover_thresh=0.1, det_east_nms_thresh=0.2, det_sast_score_thresh=0.5, det_sast_nms_thresh=0.2, det_pse_thresh=0, det_pse_box_thresh=0.85, det_pse_min_area=16, det_pse_scale=1, scales=[8, 16, 32], alpha=1.0, beta=1.0, fourier_degree=5, rec_algorithm='SVTR_LCNet', rec_model_dir='/home/hadi/.paddleocr/whl/rec/arabic/arabic_PP-OCRv4_rec_infer', rec_image_inverse=True, rec_image_shape='3, 48, 320', rec_batch_num=6, max_text_length=25, rec_char_dict_path='/mnt/Users/UT/Desktop/anaconda4/lib/python3.12/site-packages/paddleocr/ppocr/utils/dict/arabic_dict.txt', use_space_char=True, vis_font_path='./doc/fonts/simfang.ttf', drop_score=0.5, e2e_algorithm='PGNet', e2e_model_dir=None, e2e_limit_side_len=768, e2e_limit_type='max', e2e_pgnet_score_thresh=0.5, e2e_char_dict_path='./ppocr/utils/ic15_dict.txt', e2e_pgnet_valid_set='totaltext', e2e_pgnet_mode='fast', use_angle_cls=True, cls_model_dir='/home/hadi/.paddleocr/whl/cls/ch_ppocr_mobile_v2.0_cls_infer', cls_image_shape='3, 48, 192', label_list=['0', '180'], cls_batch_num=6, cls_thresh=0.9, enable_mkldnn=False, cpu_threads=10, use_pdserving=False, warmup=False, sr_model_dir=None, sr_image_shape='3, 32, 128', sr_batch_num=1, draw_img_save_dir='./inference_results', save_crop_res=False, crop_res_save_dir='./output', use_mp=False, total_process_num=1, process_id=0, benchmark=False, save_log_path='./log_output/', show_log=True, use_onnx=False, return_word_box=False, output='./output', table_max_len=488, table_algorithm='TableAttn', table_model_dir=None, merge_no_span_structure=True, table_char_dict_path=None, formula_algorithm='LaTeXOCR', formula_model_dir=None, formula_char_dict_path=None, formula_batch_num=1, layout_model_dir=None, layout_dict_path=None, layout_score_threshold=0.5, layout_nms_threshold=0.5, kie_algorithm='LayoutXLM', ser_model_dir=None, re_model_dir=None, use_visual_backbone=True, ser_dict_path='../train_data/XFUND/class_list_xfun.txt', ocr_order_method=None, mode='structure', image_orientation=False, layout=True, table=True, formula=False, ocr=True, recovery=False, recovery_to_markdown=False, use_pdf2docx_api=False, invert=False, binarize=False, alphacolor=(255, 255, 255), lang='fa', det=True, rec=True, type='ocr', savefile=False, ocr_version='PP-OCRv4', structure_version='PP-StructureV2')\n",
      "[2025/01/07 00:29:39] ppocr DEBUG: dt_boxes num : 55, elapsed : 0.2762479782104492\n",
      "[2025/01/07 00:29:40] ppocr DEBUG: cls num  : 55, elapsed : 0.13635826110839844\n",
      "[2025/01/07 00:29:43] ppocr DEBUG: rec_res num  : 55, elapsed : 3.617816209793091\n"
     ]
    },
    {
     "name": "stderr",
     "output_type": "stream",
     "text": [
      "[2025-01-07 00:29:46,691] [ WARNING] easyocr.py:80 - Neither CUDA nor MPS are available - defaulting to CPU. Note: This module is much faster with a GPU.\n"
     ]
    },
    {
     "name": "stdout",
     "output_type": "stream",
     "text": [
      "4047eee8-89aa-4014-97dc-b395df9019ac-1403_10_11.jpeg\n",
      "[2025/01/07 00:32:10] ppocr DEBUG: Namespace(help='==SUPPRESS==', use_gpu=False, use_xpu=False, use_npu=False, use_mlu=False, ir_optim=True, use_tensorrt=False, min_subgraph_size=15, precision='fp32', gpu_mem=500, gpu_id=0, image_dir=None, page_num=0, det_algorithm='DB', det_model_dir='/home/hadi/.paddleocr/whl/det/ml/Multilingual_PP-OCRv3_det_infer', det_limit_side_len=960, det_limit_type='max', det_box_type='quad', det_db_thresh=0.3, det_db_box_thresh=0.6, det_db_unclip_ratio=1.5, max_batch_size=10, use_dilation=False, det_db_score_mode='fast', det_east_score_thresh=0.8, det_east_cover_thresh=0.1, det_east_nms_thresh=0.2, det_sast_score_thresh=0.5, det_sast_nms_thresh=0.2, det_pse_thresh=0, det_pse_box_thresh=0.85, det_pse_min_area=16, det_pse_scale=1, scales=[8, 16, 32], alpha=1.0, beta=1.0, fourier_degree=5, rec_algorithm='SVTR_LCNet', rec_model_dir='/home/hadi/.paddleocr/whl/rec/arabic/arabic_PP-OCRv4_rec_infer', rec_image_inverse=True, rec_image_shape='3, 48, 320', rec_batch_num=6, max_text_length=25, rec_char_dict_path='/mnt/Users/UT/Desktop/anaconda4/lib/python3.12/site-packages/paddleocr/ppocr/utils/dict/arabic_dict.txt', use_space_char=True, vis_font_path='./doc/fonts/simfang.ttf', drop_score=0.5, e2e_algorithm='PGNet', e2e_model_dir=None, e2e_limit_side_len=768, e2e_limit_type='max', e2e_pgnet_score_thresh=0.5, e2e_char_dict_path='./ppocr/utils/ic15_dict.txt', e2e_pgnet_valid_set='totaltext', e2e_pgnet_mode='fast', use_angle_cls=True, cls_model_dir='/home/hadi/.paddleocr/whl/cls/ch_ppocr_mobile_v2.0_cls_infer', cls_image_shape='3, 48, 192', label_list=['0', '180'], cls_batch_num=6, cls_thresh=0.9, enable_mkldnn=False, cpu_threads=10, use_pdserving=False, warmup=False, sr_model_dir=None, sr_image_shape='3, 32, 128', sr_batch_num=1, draw_img_save_dir='./inference_results', save_crop_res=False, crop_res_save_dir='./output', use_mp=False, total_process_num=1, process_id=0, benchmark=False, save_log_path='./log_output/', show_log=True, use_onnx=False, return_word_box=False, output='./output', table_max_len=488, table_algorithm='TableAttn', table_model_dir=None, merge_no_span_structure=True, table_char_dict_path=None, formula_algorithm='LaTeXOCR', formula_model_dir=None, formula_char_dict_path=None, formula_batch_num=1, layout_model_dir=None, layout_dict_path=None, layout_score_threshold=0.5, layout_nms_threshold=0.5, kie_algorithm='LayoutXLM', ser_model_dir=None, re_model_dir=None, use_visual_backbone=True, ser_dict_path='../train_data/XFUND/class_list_xfun.txt', ocr_order_method=None, mode='structure', image_orientation=False, layout=True, table=True, formula=False, ocr=True, recovery=False, recovery_to_markdown=False, use_pdf2docx_api=False, invert=False, binarize=False, alphacolor=(255, 255, 255), lang='fa', det=True, rec=True, type='ocr', savefile=False, ocr_version='PP-OCRv4', structure_version='PP-StructureV2')\n",
      "[2025/01/07 00:32:11] ppocr DEBUG: dt_boxes num : 78, elapsed : 0.29517555236816406\n",
      "[2025/01/07 00:32:11] ppocr DEBUG: cls num  : 78, elapsed : 0.12112975120544434\n",
      "[2025/01/07 00:32:15] ppocr DEBUG: rec_res num  : 78, elapsed : 3.7283360958099365\n"
     ]
    },
    {
     "name": "stderr",
     "output_type": "stream",
     "text": [
      "[2025-01-07 00:32:16,564] [ WARNING] easyocr.py:80 - Neither CUDA nor MPS are available - defaulting to CPU. Note: This module is much faster with a GPU.\n"
     ]
    },
    {
     "name": "stdout",
     "output_type": "stream",
     "text": [
      "4bb7c380-f9c4-4301-a5da-faf015a2ab6d-1403_10_11.jpeg\n",
      "[2025/01/07 00:33:55] ppocr DEBUG: Namespace(help='==SUPPRESS==', use_gpu=False, use_xpu=False, use_npu=False, use_mlu=False, ir_optim=True, use_tensorrt=False, min_subgraph_size=15, precision='fp32', gpu_mem=500, gpu_id=0, image_dir=None, page_num=0, det_algorithm='DB', det_model_dir='/home/hadi/.paddleocr/whl/det/ml/Multilingual_PP-OCRv3_det_infer', det_limit_side_len=960, det_limit_type='max', det_box_type='quad', det_db_thresh=0.3, det_db_box_thresh=0.6, det_db_unclip_ratio=1.5, max_batch_size=10, use_dilation=False, det_db_score_mode='fast', det_east_score_thresh=0.8, det_east_cover_thresh=0.1, det_east_nms_thresh=0.2, det_sast_score_thresh=0.5, det_sast_nms_thresh=0.2, det_pse_thresh=0, det_pse_box_thresh=0.85, det_pse_min_area=16, det_pse_scale=1, scales=[8, 16, 32], alpha=1.0, beta=1.0, fourier_degree=5, rec_algorithm='SVTR_LCNet', rec_model_dir='/home/hadi/.paddleocr/whl/rec/arabic/arabic_PP-OCRv4_rec_infer', rec_image_inverse=True, rec_image_shape='3, 48, 320', rec_batch_num=6, max_text_length=25, rec_char_dict_path='/mnt/Users/UT/Desktop/anaconda4/lib/python3.12/site-packages/paddleocr/ppocr/utils/dict/arabic_dict.txt', use_space_char=True, vis_font_path='./doc/fonts/simfang.ttf', drop_score=0.5, e2e_algorithm='PGNet', e2e_model_dir=None, e2e_limit_side_len=768, e2e_limit_type='max', e2e_pgnet_score_thresh=0.5, e2e_char_dict_path='./ppocr/utils/ic15_dict.txt', e2e_pgnet_valid_set='totaltext', e2e_pgnet_mode='fast', use_angle_cls=True, cls_model_dir='/home/hadi/.paddleocr/whl/cls/ch_ppocr_mobile_v2.0_cls_infer', cls_image_shape='3, 48, 192', label_list=['0', '180'], cls_batch_num=6, cls_thresh=0.9, enable_mkldnn=False, cpu_threads=10, use_pdserving=False, warmup=False, sr_model_dir=None, sr_image_shape='3, 32, 128', sr_batch_num=1, draw_img_save_dir='./inference_results', save_crop_res=False, crop_res_save_dir='./output', use_mp=False, total_process_num=1, process_id=0, benchmark=False, save_log_path='./log_output/', show_log=True, use_onnx=False, return_word_box=False, output='./output', table_max_len=488, table_algorithm='TableAttn', table_model_dir=None, merge_no_span_structure=True, table_char_dict_path=None, formula_algorithm='LaTeXOCR', formula_model_dir=None, formula_char_dict_path=None, formula_batch_num=1, layout_model_dir=None, layout_dict_path=None, layout_score_threshold=0.5, layout_nms_threshold=0.5, kie_algorithm='LayoutXLM', ser_model_dir=None, re_model_dir=None, use_visual_backbone=True, ser_dict_path='../train_data/XFUND/class_list_xfun.txt', ocr_order_method=None, mode='structure', image_orientation=False, layout=True, table=True, formula=False, ocr=True, recovery=False, recovery_to_markdown=False, use_pdf2docx_api=False, invert=False, binarize=False, alphacolor=(255, 255, 255), lang='fa', det=True, rec=True, type='ocr', savefile=False, ocr_version='PP-OCRv4', structure_version='PP-StructureV2')\n",
      "[2025/01/07 00:33:57] ppocr DEBUG: dt_boxes num : 96, elapsed : 0.2744169235229492\n",
      "[2025/01/07 00:33:57] ppocr DEBUG: cls num  : 96, elapsed : 0.22613120079040527\n",
      "[2025/01/07 00:34:01] ppocr DEBUG: rec_res num  : 96, elapsed : 4.4733569622039795\n"
     ]
    },
    {
     "name": "stderr",
     "output_type": "stream",
     "text": [
      "[2025-01-07 00:34:03,404] [ WARNING] easyocr.py:80 - Neither CUDA nor MPS are available - defaulting to CPU. Note: This module is much faster with a GPU.\n"
     ]
    }
   ],
   "source": [
    "# Joined\n",
    "import json\n",
    "import os\n",
    "\n",
    "print('here')\n",
    "def process_folder(folder_path):\n",
    "    ocr_results = {}\n",
    "    \n",
    "    # Loop through all files in the folder\n",
    "    for filename in os.listdir(folder_path):\n",
    "        file_path = os.path.join(folder_path, filename)\n",
    "        \n",
    "        # Check if the file is an image\n",
    "        if os.path.isfile(file_path) and filename.lower().endswith(('.png', '.jpg', '.jpeg', '.bmp', '.tiff')):\n",
    "            try:\n",
    "                paddle = paddleocr(file_path)\n",
    "                tesseract = tesseractocr(file_path)\n",
    "                easy = easyocr1(file_path)\n",
    "                print(filename)\n",
    "\n",
    "                ocr_results[filename] = { \n",
    "                    \"paddle\": \" \".join([item[0] for item in paddle]), \n",
    "                    \"tesseract\": tesseract, \n",
    "                    \"easy\": easy \n",
    "                }\n",
    "                \n",
    "                # Perform OCR\n",
    "                # results = reader.readtext(file_path)\n",
    "                \n",
    "                # Extract text\n",
    "                # extracted_texts = [result[1] for result in results]\n",
    "                \n",
    "                # Save results in the dictionary\n",
    "                # ocr_results[filename] = extracted_texts\n",
    "            \n",
    "            except Exception as e:\n",
    "                print(f\"Error processing {filename}: {e}\")\n",
    "    \n",
    "    with open(\"./output2.json\", 'w', encoding='utf-8') as json_file:\n",
    "        print('saving')\n",
    "        json.dump(ocr_results, json_file, ensure_ascii=False, indent=4)\n",
    "\n",
    "    return ocr_results\n",
    "\n",
    "process_folder('./samples')\n"
   ]
  },
  {
   "cell_type": "code",
   "execution_count": null,
   "id": "a2480227-d9ec-4d5e-aa97-8cf69bf4b6fc",
   "metadata": {},
   "outputs": [],
   "source": [
    "print(result)\n"
   ]
  },
  {
   "cell_type": "markdown",
   "id": "d682e6cc",
   "metadata": {},
   "source": [
    "# Rotate image"
   ]
  },
  {
   "cell_type": "code",
   "execution_count": 9,
   "id": "166a6da0-99f1-4af1-b6a8-fd4c77ad8e7d",
   "metadata": {},
   "outputs": [
    {
     "name": "stdout",
     "output_type": "stream",
     "text": [
      "Rotated image saved as ./samples/1a124235-9cc3-4d04-841c-fcb472e8a35d-1403_10_11_fixed.jpeg\n"
     ]
    }
   ],
   "source": [
    "file_name=\"./samples/1a124235-9cc3-4d04-841c-fcb472e8a35d-1403_10_11.jpeg\"\n",
    "\n",
    "from PIL import Image\n",
    "\n",
    "# Input and output file paths\n",
    "input_file = file_name  # Replace with your file name\n",
    "output_file = file_name.replace(\".jpeg\", \"_fixed.jpeg\")\n",
    "\n",
    "# Open the image\n",
    "image = Image.open(input_file)\n",
    "\n",
    "# Rotate 90 degrees anti-clockwise\n",
    "rotated_image = image.rotate(-90, expand=True)\n",
    "\n",
    "# Save the rotated image\n",
    "rotated_image.save(output_file)\n",
    "\n",
    "print(f\"Rotated image saved as {output_file}\")"
   ]
  },
  {
   "cell_type": "markdown",
   "id": "83f2a653",
   "metadata": {},
   "source": [
    "# process Single Image (first item)"
   ]
  },
  {
   "cell_type": "code",
   "execution_count": 12,
   "id": "dcff5b54-e67c-47d2-9843-463bd5f48f09",
   "metadata": {},
   "outputs": [
    {
     "name": "stdout",
     "output_type": "stream",
     "text": [
      "[2025/01/14 16:21:14] ppocr DEBUG: Namespace(help='==SUPPRESS==', use_gpu=False, use_xpu=False, use_npu=False, use_mlu=False, ir_optim=True, use_tensorrt=False, min_subgraph_size=15, precision='fp32', gpu_mem=500, gpu_id=0, image_dir=None, page_num=0, det_algorithm='DB', det_model_dir='/home/hadi/.paddleocr/whl/det/ml/Multilingual_PP-OCRv3_det_infer', det_limit_side_len=960, det_limit_type='max', det_box_type='quad', det_db_thresh=0.3, det_db_box_thresh=0.6, det_db_unclip_ratio=1.5, max_batch_size=10, use_dilation=False, det_db_score_mode='fast', det_east_score_thresh=0.8, det_east_cover_thresh=0.1, det_east_nms_thresh=0.2, det_sast_score_thresh=0.5, det_sast_nms_thresh=0.2, det_pse_thresh=0, det_pse_box_thresh=0.85, det_pse_min_area=16, det_pse_scale=1, scales=[8, 16, 32], alpha=1.0, beta=1.0, fourier_degree=5, rec_algorithm='SVTR_LCNet', rec_model_dir='/home/hadi/.paddleocr/whl/rec/arabic/arabic_PP-OCRv4_rec_infer', rec_image_inverse=True, rec_image_shape='3, 48, 320', rec_batch_num=6, max_text_length=25, rec_char_dict_path='/mnt/Users/UT/Desktop/anaconda4/lib/python3.12/site-packages/paddleocr/ppocr/utils/dict/arabic_dict.txt', use_space_char=True, vis_font_path='./doc/fonts/simfang.ttf', drop_score=0.5, e2e_algorithm='PGNet', e2e_model_dir=None, e2e_limit_side_len=768, e2e_limit_type='max', e2e_pgnet_score_thresh=0.5, e2e_char_dict_path='./ppocr/utils/ic15_dict.txt', e2e_pgnet_valid_set='totaltext', e2e_pgnet_mode='fast', use_angle_cls=True, cls_model_dir='/home/hadi/.paddleocr/whl/cls/ch_ppocr_mobile_v2.0_cls_infer', cls_image_shape='3, 48, 192', label_list=['0', '180'], cls_batch_num=6, cls_thresh=0.9, enable_mkldnn=False, cpu_threads=10, use_pdserving=False, warmup=False, sr_model_dir=None, sr_image_shape='3, 32, 128', sr_batch_num=1, draw_img_save_dir='./inference_results', save_crop_res=False, crop_res_save_dir='./output', use_mp=False, total_process_num=1, process_id=0, benchmark=False, save_log_path='./log_output/', show_log=True, use_onnx=False, return_word_box=False, output='./output', table_max_len=488, table_algorithm='TableAttn', table_model_dir=None, merge_no_span_structure=True, table_char_dict_path=None, formula_algorithm='LaTeXOCR', formula_model_dir=None, formula_char_dict_path=None, formula_batch_num=1, layout_model_dir=None, layout_dict_path=None, layout_score_threshold=0.5, layout_nms_threshold=0.5, kie_algorithm='LayoutXLM', ser_model_dir=None, re_model_dir=None, use_visual_backbone=True, ser_dict_path='../train_data/XFUND/class_list_xfun.txt', ocr_order_method=None, mode='structure', image_orientation=False, layout=True, table=True, formula=False, ocr=True, recovery=False, recovery_to_markdown=False, use_pdf2docx_api=False, invert=False, binarize=False, alphacolor=(255, 255, 255), lang='fa', det=True, rec=True, type='ocr', savefile=False, ocr_version='PP-OCRv4', structure_version='PP-StructureV2')\n",
      "[2025/01/14 16:21:16] ppocr DEBUG: dt_boxes num : 102, elapsed : 0.21207404136657715\n",
      "[2025/01/14 16:21:16] ppocr DEBUG: cls num  : 102, elapsed : 0.27022266387939453\n",
      "[2025/01/14 16:21:21] ppocr DEBUG: rec_res num  : 102, elapsed : 4.755124092102051\n",
      "{'paddle': [('خاص(', 0.8372863531112671), ('سهامي(', 0.9410502314567566), ('عسل', 0.9996487498283386), ('شركت', 0.9963449835777283), ('شيرين', 0.9869012832641602), ('١٢١', 0.7686964869499207), ('حقوق ماه', 0.8006647825241089), ('فيش', 0.9774274826049805), (' سال', 0.8003820776939392), ('برسنلي:', 0.8905974626541138), (' ك ', 0.610905647277832), ('خاانوادكي:', 0.8086408376693726), ('نام ونام', 0.9379673004150391), ('٤٧', 0.7747118473052979), ('انتظامات', 0.9164539575576782), ('هزينه:', 0.8067298531532288), ('مركز', 0.9921029806137085), ('بيوركويج', 0.8893343210220337), ('قائمي', 0.9610491991043091), ('جاويد', 0.8284441828727722), ('مزايا', 0.9909852743148804), ('كاركرد', 0.9758030772209167), (' كسور', 0.8772608041763306), ('وام', 0.9288328289985657), ('مزد', 0.9271963238716125), ('عادي', 0.9977086782455444), ('كاركرد', 0.9767191410064697), ('٢٢,٩٩٤,٤٢٨', 0.8568393588066101), ('كروه', 0.9442700743675232), (' روز', 0.8274800777435303), ('نام وام', 0.8619951009750366), ('فسط', 0.9970338940620422), ('مانده ', 0.9020183682441711), ('مبلع', 0.9584060907363892), ('ماليات', 0.9914608597755432), ('٢,٢٨,٨٣', 0.878458559513092), ('مزد سنوات', 0.9717705845832825), ('نوبتكاري', 0.9405722618103027), ('٢٩ روز', 0.8738906383514404), ('ايام', 0.9886919260025024), ('١١,٧٨,٢١١', 0.902811586856842), ('٢,٥,', 0.869218111038208), ('وام مديريت', 0.9456958770751953), ('٤,٧٧٢,٥٩', 0.9042177200317383), ('بيمه ', 0.845305323600769), ('فوق العاده شغل', 0.9481592774391174), ('٤٧', 0.5481670498847961), ('كاركرد موثر', 0.9850618839263916), (' روز', 0.7933350205421448), ('٢,٥,', 0.9466646313667297), ('جمع اقساط وام', 0.9499895572662354), ('حق مسكن', 0.8870257139205933), ('٥٥,', 0.9152963757514954), ('بي اش لمورر', 0.5252236127853394), ('٧', 0.8397766351699829), ('حق خخواربار', 0.8922643661499023), ('٣,٢', 0.9443275928497314), ('بدفي', 0.7751114964485168), ('حق ااولاد', 0.9040027260780334), ('روند ماه جاري', 0.8603833317756653), (',١٧٩,٧٥', 0.9254279136657715), ('٩', 0.9040650725364685), ('٧١', 0.6387724280357361), ('ماه قبل', 0.9595102667808533), (' رووند', 0.7934175133705139), ('بن كاركري', 0.9403167366981506), ('٨,٥,', 0.9501458406448364), ('١٢,٧٨١,', 0.8656163811683655), ('درصد ', 0.8695452809333801), ('كاري ٢/٥', 0.8141753673553467), ('وبت', 0.9007553458213806), ('١,,', 0.8258800506591797), ('ويزه', 0.9058586955070496), ('ثابت', 0.938213586807251), (' سايرر اطلاعات', 0.8153945803642273), ('١٧,٨٣٤,٣٤٥', 0.9076429605484009), ('سال تا', 0.8314938545227051), ('مالليات', 0.9427396059036255), ('درآمد سال تا ماه', 0.9021267890930176), ('١٢,٩١١,٢٨', 0.8716721534729004), ('كسور:', 0.8639938235282898), ('جمغ', 0.8950639367103577), ('١٢,٩٥٢,٩٢١', 0.9345582723617554), ('٢,٥,', 0.8977264165878296), ('اقساط وام', 0.9562186002731323), ('جممع', 0.8994525671005249), ('٥٧,٩٤١,٩', 0.9108328819274902), ('مستمر ماه', 0.8738831281661987), ('درامد', 0.9646049737930298), ('١,٩٢٣,٩٢١', 0.9171428680419922), ('مزايا:', 0.9361605644226074), ('جممع', 0.8982189893722534), ('٢٧٧٢٢٧٣٩٩٤٣٨-', 0.7322463393211365), ('حساب:', 0.8016403317451477), ('شماره', 0.9917573928833008), ('٨٥,٩٧١,', 0.951416552066803), ('بداختي', 0.9090561866760254), ('خالص', 0.8514386415481567), ('٢٣٩٨٥١٩٤', 0.8152775764465332), ('بيمه', 0.9401028752326965), ('شماره', 0.9787930250167847)], 'tesseract': 'کد پرسنلي: ۱۳۸۶۹ نام و نام خانوادگي:\\n\\nهرد کرو : ۳۸\\n۳۳\\n\\nرد نوات ۱۱/۱\\n\\nفوق العاده شغل ۳0\\n\\nحق مسکن 0۰\\n\\n۹\\n\\nحق خواربار ۸0 :\\nحق اولاد ۴/۹۵۰ روند ماه جاري\\n\\nروند ماه قبل ۴۷۱\\nبن كارگري ی\\nنوبت کاري ۳۲/۵ درصد ۱۳\\n\\nثابت ویزه ۱\\n\\nمالیات سال تا ۵(\\n\\nدرآمد سال تا ماه ردررد و ۱۵۵ اک\\n\\nجمغ کسور: \\u200f ۱۴,۹۵۲,۹۳۱ َ و رو\\n\\nدرآمد مستمر ماه 0 1 ۳۹۹ جمع اقساط وام ۵\\n۱۳۱ ۲۰۰۷-۷۴۴-۷۳۹۹۶۳۸۱\\n\\nاخالص پرداختي: ۵ ی ۶ ۳۳\\n\\n'}\n"
     ]
    }
   ],
   "source": [
    "output_file = \"./samples/1a124235-9cc3-4d04-841c-fcb472e8a35d-1403_10_11_fixed.jpeg\"\n",
    "paddle = paddleocr(output_file)\n",
    "tesseract = tesseractocr(output_file)\n",
    "# easy = easyocr1(output_file)\n",
    "\n",
    "ocr_result = { \n",
    "    \"paddle\": paddle, \n",
    "    \"tesseract\": tesseract, \n",
    "    # \"easy\": easy \n",
    "}\n",
    "print(ocr_result)"
   ]
  }
 ],
 "metadata": {
  "kernelspec": {
   "display_name": "Python 3 (ipykernel)",
   "language": "python",
   "name": "python3"
  },
  "language_info": {
   "codemirror_mode": {
    "name": "ipython",
    "version": 3
   },
   "file_extension": ".py",
   "mimetype": "text/x-python",
   "name": "python",
   "nbconvert_exporter": "python",
   "pygments_lexer": "ipython3",
   "version": "3.12.7"
  }
 },
 "nbformat": 4,
 "nbformat_minor": 5
}
